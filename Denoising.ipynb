{
 "cells": [
  {
   "cell_type": "code",
   "execution_count": 1,
   "id": "6084ca5c-2a0f-4202-8034-fe83911905e9",
   "metadata": {},
   "outputs": [
    {
     "ename": "ModuleNotFoundError",
     "evalue": "No module named 'demucs'",
     "output_type": "error",
     "traceback": [
      "\u001b[0;31m---------------------------------------------------------------------------\u001b[0m",
      "\u001b[0;31mModuleNotFoundError\u001b[0m                       Traceback (most recent call last)",
      "Cell \u001b[0;32mIn[1], line 2\u001b[0m\n\u001b[1;32m      1\u001b[0m \u001b[38;5;28;01mimport\u001b[39;00m\u001b[38;5;250m \u001b[39m\u001b[38;5;21;01mtorchaudio\u001b[39;00m\n\u001b[0;32m----> 2\u001b[0m \u001b[38;5;28;01mfrom\u001b[39;00m\u001b[38;5;250m \u001b[39m\u001b[38;5;21;01mdemucs\u001b[39;00m\u001b[38;5;250m \u001b[39m\u001b[38;5;28;01mimport\u001b[39;00m pretrained\n\u001b[1;32m      3\u001b[0m \u001b[38;5;28;01mfrom\u001b[39;00m\u001b[38;5;250m \u001b[39m\u001b[38;5;21;01mdemucs\u001b[39;00m\u001b[38;5;21;01m.\u001b[39;00m\u001b[38;5;21;01mapply\u001b[39;00m\u001b[38;5;250m \u001b[39m\u001b[38;5;28;01mimport\u001b[39;00m apply_model\n\u001b[1;32m      4\u001b[0m \u001b[38;5;28;01mimport\u001b[39;00m\u001b[38;5;250m \u001b[39m\u001b[38;5;21;01msoundfile\u001b[39;00m\u001b[38;5;250m \u001b[39m\u001b[38;5;28;01mas\u001b[39;00m\u001b[38;5;250m \u001b[39m\u001b[38;5;21;01msf\u001b[39;00m\n",
      "\u001b[0;31mModuleNotFoundError\u001b[0m: No module named 'demucs'"
     ]
    }
   ],
   "source": [
    "import torchaudio\n",
    "from demucs import pretrained\n",
    "from demucs.apply import apply_model\n",
    "import soundfile as sf\n",
    "import torch\n",
    "import os\n",
    "import matplotlib.pyplot as plt\n",
    "\n",
    "\n",
    "def plot_waveforms(original, denoised, sr, output_plot_path):\n",
    "    plt.figure(figsize=(14, 6))\n",
    "\n",
    "    plt.subplot(2, 1, 1)\n",
    "    plt.title(\"Original Waveform\")\n",
    "    plt.plot(original.t().numpy())\n",
    "    plt.xlabel(\"Time\")\n",
    "    plt.ylabel(\"Amplitude\")\n",
    "\n",
    "    plt.subplot(2, 1, 2)\n",
    "    plt.title(\"Denoised Waveform\")\n",
    "    plt.plot(denoised.t().numpy())\n",
    "    plt.xlabel(\"Time\")\n",
    "    plt.ylabel(\"Amplitude\")\n",
    "\n",
    "    plt.tight_layout()\n",
    "    plt.savefig(output_plot_path)\n",
    "    plt.close()\n",
    "\n",
    "\n",
    "def denoise_with_demucs(input_wav_path: str, output_wav_path: str, output_plot_path: str):\n",
    "    # Load audio (preserve sample rate and stereo)\n",
    "    wav, sr = torchaudio.load(input_wav_path)\n",
    "\n",
    "    # Make sure tensor is 2D (channels, time)\n",
    "    if wav.dim() == 1:\n",
    "        wav = wav.unsqueeze(0)\n",
    "\n",
    "    # Load Demucs pre-trained model (v4)\n",
    "    model = pretrained.get_model(name=\"htdemucs\")\n",
    "\n",
    "    # Run model\n",
    "    with torch.no_grad():\n",
    "        sources = apply_model(model, wav, samplerate=sr, device=\"cuda\" if torch.cuda.is_available() else \"cpu\")\n",
    "\n",
    "    # Extract vocals (speech signal)\n",
    "    vocals = sources[\"vocals\"]\n",
    "\n",
    "    # Save denoised audio\n",
    "    vocals_np = vocals.cpu().squeeze().numpy()\n",
    "    sf.write(output_wav_path, vocals_np.T, sr)\n",
    "\n",
    "    # Plot and save waveform comparison\n",
    "    plot_waveforms(wav, vocals, sr, output_plot_path)\n",
    "\n",
    "\n",
    "if __name__ == \"__main__\":\n",
    "    input_path = \"input.wav\"                   # Replace with your file\n",
    "    output_path = \"denoised_output.wav\"       # Output WAV path\n",
    "    output_plot = \"waveform_comparison.png\"    # Output plot path\n",
    "\n",
    "    denoise_with_demucs(input_path, output_path, output_plot)\n",
    "    print(f\"Denoised audio saved to: {output_path}\")\n",
    "    print(f\"Waveform comparison plot saved to: {output_plot}\")\n"
   ]
  },
  {
   "cell_type": "code",
   "execution_count": null,
   "id": "4d1fefc4-f1fa-45af-81c2-21e90725b0e8",
   "metadata": {},
   "outputs": [],
   "source": []
  }
 ],
 "metadata": {
  "kernelspec": {
   "display_name": "Python (Study)~",
   "language": "python",
   "name": "study"
  },
  "language_info": {
   "codemirror_mode": {
    "name": "ipython",
    "version": 3
   },
   "file_extension": ".py",
   "mimetype": "text/x-python",
   "name": "python",
   "nbconvert_exporter": "python",
   "pygments_lexer": "ipython3",
   "version": "3.9.21"
  }
 },
 "nbformat": 4,
 "nbformat_minor": 5
}
