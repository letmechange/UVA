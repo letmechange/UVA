{
 "cells": [
  {
   "cell_type": "code",
   "execution_count": 1,
   "metadata": {},
   "outputs": [],
   "source": [
    "import os\n",
    "from voicefixer import VoiceFixer\n",
    "import librosa\n",
    "import soundfile as sf\n",
    "import matplotlib.pyplot as plt"
   ]
  },
  {
   "cell_type": "code",
   "execution_count": 3,
   "metadata": {},
   "outputs": [],
   "source": [
    "def denoise(input_folder, output_folder):\n",
    "    \"\"\"\n",
    "    Args:\n",
    "        input_folder: string, name of input folder\n",
    "        out_folder: string, name of output folder\n",
    "    \"\"\"\n",
    "    os.makedirs(output_folder, exist_ok=True)\n",
    "\n",
    "    model = VoiceFixer()\n",
    "\n",
    "    for filename in os.listdir(input_folder):\n",
    "        if filename.endswith(\".wav\"):\n",
    "            input_path = os.path.join(input_folder, filename)\n",
    "            output_path = os.path.join(output_folder, \"denoised_\" + filename)\n",
    "\n",
    "            \n",
    "            y, sr = librosa.load(input_path, sr=44100)\n",
    "            sf.write(output_path, y, 44100)\n",
    "            model.restore(input=input_path, output=output_path)\n",
    "            y_denoised, _ = librosa.load(output_path, sr=44100)"
   ]
  },
  {
   "cell_type": "code",
   "execution_count": 4,
   "metadata": {},
   "outputs": [],
   "source": [
    "denoise(\"voice_file/raw_Voice\", \"voice_file/denoise\")"
   ]
  }
 ],
 "metadata": {
  "kernelspec": {
   "display_name": "study",
   "language": "python",
   "name": "python3"
  },
  "language_info": {
   "codemirror_mode": {
    "name": "ipython",
    "version": 3
   },
   "file_extension": ".py",
   "mimetype": "text/x-python",
   "name": "python",
   "nbconvert_exporter": "python",
   "pygments_lexer": "ipython3",
   "version": "3.10.16"
  }
 },
 "nbformat": 4,
 "nbformat_minor": 2
}
